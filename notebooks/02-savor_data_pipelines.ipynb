{
 "cells": [
  {
   "cell_type": "markdown",
   "metadata": {},
   "source": [
    "# Savor Data\n",
    "\n",
    "> Taking advantage of my own big data.\n",
    "\n",
    "A data-driven project by [Tobias Reaper](https://github.com/tobias-fyi/)\n",
    "\n",
    "## Part 2: Pipelines\n",
    "\n",
    "* Extract current data from Airtable\n",
    "* Insert into local Postgres database, transforming as needed"
   ]
  },
  {
   "cell_type": "markdown",
   "metadata": {},
   "source": [
    "---\n",
    "---\n",
    "\n",
    "## Extract data from Airtable\n",
    "\n",
    "I'll be using a package called [airtable-python-wrapper](https://github.com/gtalarico/airtable-python-wrapper) to connect to Airtable."
   ]
  },
  {
   "cell_type": "code",
   "execution_count": 1,
   "metadata": {},
   "outputs": [],
   "source": [
    "# === Some initial imports and config === #\n",
    "%load_ext autoreload\n",
    "%autoreload\n",
    "\n",
    "from os import environ\n",
    "from pprint import pprint\n",
    "from airtable import Airtable\n",
    "import pandas as pd"
   ]
  },
  {
   "cell_type": "code",
   "execution_count": 2,
   "metadata": {},
   "outputs": [],
   "source": [
    "# === Set up environment variables === #\n",
    "from dotenv import load_dotenv\n",
    "from pathlib import Path\n",
    "\n",
    "env_path = Path.cwd().parents[0] / \".env\"\n",
    "load_dotenv(dotenv_path=env_path)\n",
    "\n",
    "# === Airtable keys === #\n",
    "base_key = environ.get(\"AIRTABLE_BASE_KEY\")\n",
    "api_key = environ.get(\"AIRTABLE_API_KEY\")"
   ]
  },
  {
   "cell_type": "markdown",
   "metadata": {},
   "source": [
    "### Engagements"
   ]
  },
  {
   "cell_type": "code",
   "execution_count": 5,
   "metadata": {},
   "outputs": [
    {
     "name": "stdout",
     "output_type": "stream",
     "text": [
      "<Airtable table:project_log>\n"
     ]
    }
   ],
   "source": [
    "# === project_log === #\n",
    "table_name = \"project_log\"\n",
    "airtable = Airtable(base_key, table_name, api_key=api_key)\n",
    "print(airtable)"
   ]
  },
  {
   "cell_type": "code",
   "execution_count": 9,
   "metadata": {},
   "outputs": [
    {
     "data": {
      "text/html": [
       "<div>\n",
       "<style scoped>\n",
       "    .dataframe tbody tr th:only-of-type {\n",
       "        vertical-align: middle;\n",
       "    }\n",
       "\n",
       "    .dataframe tbody tr th {\n",
       "        vertical-align: top;\n",
       "    }\n",
       "\n",
       "    .dataframe thead th {\n",
       "        text-align: right;\n",
       "    }\n",
       "</style>\n",
       "<table border=\"1\" class=\"dataframe\">\n",
       "  <thead>\n",
       "    <tr style=\"text-align: right;\">\n",
       "      <th></th>\n",
       "      <th>id</th>\n",
       "      <th>notes</th>\n",
       "      <th>time_in</th>\n",
       "      <th>time_out</th>\n",
       "      <th>engage_log</th>\n",
       "      <th>location</th>\n",
       "      <th>created</th>\n",
       "      <th>modified</th>\n",
       "      <th>duration</th>\n",
       "    </tr>\n",
       "  </thead>\n",
       "  <tbody>\n",
       "    <tr>\n",
       "      <th>0</th>\n",
       "      <td>1</td>\n",
       "      <td>Very first record on the new journal!! - kinda...</td>\n",
       "      <td>2019-12-03T14:00:00.000Z</td>\n",
       "      <td>2019-12-03T15:20:00.000Z</td>\n",
       "      <td>[recT93azq9mX8ecGC, recGJ5ynXurXT87My, recXMT2...</td>\n",
       "      <td>[recyYL97lMDyqhG4M]</td>\n",
       "      <td>2019-11-24T05:49:20.000Z</td>\n",
       "      <td>2019-12-03T20:52:05.000Z</td>\n",
       "      <td>4800</td>\n",
       "    </tr>\n",
       "    <tr>\n",
       "      <th>1</th>\n",
       "      <td>2</td>\n",
       "      <td>Preparation for another solid day’s work</td>\n",
       "      <td>2019-12-03T15:20:00.000Z</td>\n",
       "      <td>2019-12-03T16:02:00.000Z</td>\n",
       "      <td>[recUteauXixMMcfe6, recFjRkDcKEUbG6Ai, reccmhX...</td>\n",
       "      <td>[recgaBaPGoewkBgbE]</td>\n",
       "      <td>2019-11-24T05:49:20.000Z</td>\n",
       "      <td>2019-12-03T20:52:05.000Z</td>\n",
       "      <td>2520</td>\n",
       "    </tr>\n",
       "    <tr>\n",
       "      <th>2</th>\n",
       "      <td>3</td>\n",
       "      <td>Lambda morning warmup time</td>\n",
       "      <td>2019-12-03T16:02:00.000Z</td>\n",
       "      <td>2019-12-03T17:10:00.000Z</td>\n",
       "      <td>[recZvAWSJEPLeTNhr, rec0vVuZOEwEgQgxX, recJOeb...</td>\n",
       "      <td>[recgaBaPGoewkBgbE]</td>\n",
       "      <td>2019-11-24T05:49:20.000Z</td>\n",
       "      <td>2019-12-06T10:35:23.000Z</td>\n",
       "      <td>4080</td>\n",
       "    </tr>\n",
       "    <tr>\n",
       "      <th>3</th>\n",
       "      <td>4</td>\n",
       "      <td>412 Lesson - Vectorization</td>\n",
       "      <td>2019-12-03T17:10:00.000Z</td>\n",
       "      <td>2019-12-03T19:20:00.000Z</td>\n",
       "      <td>[recw1GyAeOvKyf0h9, reczOjUh3BxJKM203, recU7Vn...</td>\n",
       "      <td>[recgaBaPGoewkBgbE]</td>\n",
       "      <td>2019-12-03T17:09:59.000Z</td>\n",
       "      <td>2019-12-03T20:52:05.000Z</td>\n",
       "      <td>7800</td>\n",
       "    </tr>\n",
       "    <tr>\n",
       "      <th>4</th>\n",
       "      <td>5</td>\n",
       "      <td>Lunchtime</td>\n",
       "      <td>2019-12-03T19:20:00.000Z</td>\n",
       "      <td>2019-12-03T20:00:00.000Z</td>\n",
       "      <td>[rec5eXPTE5iex47tX, recBLlFmapvXkrFAy, recGuTG...</td>\n",
       "      <td>[recgaBaPGoewkBgbE]</td>\n",
       "      <td>2019-12-03T18:21:01.000Z</td>\n",
       "      <td>2019-12-03T20:52:05.000Z</td>\n",
       "      <td>2400</td>\n",
       "    </tr>\n",
       "  </tbody>\n",
       "</table>\n",
       "</div>"
      ],
      "text/plain": [
       "   id                                              notes  \\\n",
       "0   1  Very first record on the new journal!! - kinda...   \n",
       "1   2          Preparation for another solid day’s work    \n",
       "2   3                         Lambda morning warmup time   \n",
       "3   4                         412 Lesson - Vectorization   \n",
       "4   5                                         Lunchtime    \n",
       "\n",
       "                    time_in                  time_out  \\\n",
       "0  2019-12-03T14:00:00.000Z  2019-12-03T15:20:00.000Z   \n",
       "1  2019-12-03T15:20:00.000Z  2019-12-03T16:02:00.000Z   \n",
       "2  2019-12-03T16:02:00.000Z  2019-12-03T17:10:00.000Z   \n",
       "3  2019-12-03T17:10:00.000Z  2019-12-03T19:20:00.000Z   \n",
       "4  2019-12-03T19:20:00.000Z  2019-12-03T20:00:00.000Z   \n",
       "\n",
       "                                          engage_log             location  \\\n",
       "0  [recT93azq9mX8ecGC, recGJ5ynXurXT87My, recXMT2...  [recyYL97lMDyqhG4M]   \n",
       "1  [recUteauXixMMcfe6, recFjRkDcKEUbG6Ai, reccmhX...  [recgaBaPGoewkBgbE]   \n",
       "2  [recZvAWSJEPLeTNhr, rec0vVuZOEwEgQgxX, recJOeb...  [recgaBaPGoewkBgbE]   \n",
       "3  [recw1GyAeOvKyf0h9, reczOjUh3BxJKM203, recU7Vn...  [recgaBaPGoewkBgbE]   \n",
       "4  [rec5eXPTE5iex47tX, recBLlFmapvXkrFAy, recGuTG...  [recgaBaPGoewkBgbE]   \n",
       "\n",
       "                    created                  modified  duration  \n",
       "0  2019-11-24T05:49:20.000Z  2019-12-03T20:52:05.000Z      4800  \n",
       "1  2019-11-24T05:49:20.000Z  2019-12-03T20:52:05.000Z      2520  \n",
       "2  2019-11-24T05:49:20.000Z  2019-12-06T10:35:23.000Z      4080  \n",
       "3  2019-12-03T17:09:59.000Z  2019-12-03T20:52:05.000Z      7800  \n",
       "4  2019-12-03T18:21:01.000Z  2019-12-03T20:52:05.000Z      2400  "
      ]
     },
     "execution_count": 9,
     "metadata": {},
     "output_type": "execute_result"
    }
   ],
   "source": [
    "# === Get some sorted records === #\n",
    "project_log_records = airtable.get_all(maxRecords=20, sort=[\"time_in\"])\n",
    "# pprint(project_log_records)\n",
    "df_project = pd.DataFrame.from_records((r[\"fields\"] for r in project_log_records))\n",
    "df_project.head()"
   ]
  },
  {
   "cell_type": "markdown",
   "metadata": {},
   "source": []
  },
  {
   "cell_type": "code",
   "execution_count": null,
   "metadata": {},
   "outputs": [],
   "source": []
  },
  {
   "cell_type": "code",
   "execution_count": null,
   "metadata": {},
   "outputs": [],
   "source": []
  },
  {
   "cell_type": "code",
   "execution_count": null,
   "metadata": {},
   "outputs": [],
   "source": []
  },
  {
   "cell_type": "code",
   "execution_count": null,
   "metadata": {},
   "outputs": [],
   "source": []
  },
  {
   "cell_type": "code",
   "execution_count": null,
   "metadata": {},
   "outputs": [],
   "source": []
  },
  {
   "cell_type": "code",
   "execution_count": null,
   "metadata": {},
   "outputs": [],
   "source": []
  }
 ],
 "metadata": {
  "kernelspec": {
   "display_name": "Python 3",
   "language": "python",
   "name": "python3"
  },
  "language_info": {
   "codemirror_mode": {
    "name": "ipython",
    "version": 3
   },
   "file_extension": ".py",
   "mimetype": "text/x-python",
   "name": "python",
   "nbconvert_exporter": "python",
   "pygments_lexer": "ipython3",
   "version": "3.8.5"
  }
 },
 "nbformat": 4,
 "nbformat_minor": 4
}
